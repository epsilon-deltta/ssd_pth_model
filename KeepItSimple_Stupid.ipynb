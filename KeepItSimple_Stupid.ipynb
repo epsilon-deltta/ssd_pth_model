{
 "cells": [
  {
   "cell_type": "code",
   "execution_count": 8,
   "id": "c8e6c968-d357-4bb7-9732-9052666fcc5c",
   "metadata": {},
   "outputs": [],
   "source": [
    "import subprocess as sbp\n",
    "FILENAME  = 'voc_pretrined.pth.tar'\n",
    "FILENAME2 = 'checkpoint_ssd300.pth.tar'\n",
    "\n",
    "FILEID = '1bvJfF6r_zYl2xZEpYXxgb7jLQHFZ01Qe'\n",
    "import os\n",
    "if  not os.path.exists(FILENAME):\n",
    "    sbp.check_output(f'''\n",
    "                     wget --load-cookies ~/cookies.txt \"https://docs.google.com/uc?export=download&confirm=$(wget --quiet --save-cookies ~/cookies.txt --keep-session-cookies --no-check-certificate 'https://docs.google.com/uc?export=download&id={FILEID}' -O- | sed -rn 's/.*confirm=([0-9A-Za-z_]+).*/\\1\\n/p')&id={FILEID}\" -O {FILENAME} && rm -rf ~/cookies.txt\n",
    "                     ''' ,shell=True)    \n"
   ]
  },
  {
   "cell_type": "code",
   "execution_count": null,
   "id": "08eca6d4-f7e9-46d7-b753-930e16f79ec7",
   "metadata": {},
   "outputs": [],
   "source": []
  }
 ],
 "metadata": {
  "kernelspec": {
   "display_name": "p36_kernel",
   "language": "python",
   "name": "p36"
  },
  "language_info": {
   "codemirror_mode": {
    "name": "ipython",
    "version": 3
   },
   "file_extension": ".py",
   "mimetype": "text/x-python",
   "name": "python",
   "nbconvert_exporter": "python",
   "pygments_lexer": "ipython3",
   "version": "3.6.13"
  }
 },
 "nbformat": 4,
 "nbformat_minor": 5
}
